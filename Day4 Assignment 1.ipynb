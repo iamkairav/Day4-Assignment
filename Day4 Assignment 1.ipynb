{
  "nbformat": 4,
  "nbformat_minor": 0,
  "metadata": {
    "colab": {
      "name": "letusupgrade-python.ipynb",
      "provenance": [],
      "collapsed_sections": []
    },
    "kernelspec": {
      "name": "python3",
      "display_name": "Python 3"
    }
  },
  "cells": [
    {
      "cell_type": "code",
      "metadata": {
        "id": "uYGjUd0-nRMf",
        "colab": {
          "base_uri": "https://localhost:8080/"
        },
        "outputId": "b4751165-6d56-4099-a98c-06f866a311ca"
      },
      "source": [
        "h = open(\"heyworld.txt\",\"w\")\r\n",
        "h.write(\"I Love Letsupgrade\")\r\n",
        "h.close()\r\n",
        "h = open(\"heyworld.txt\",\"r\")\r\n",
        "print(h.read())\r\n",
        "h.close()\r\n",
        "h=open(\"heyworld.txt\",\"a\")\r\n",
        "h.write(\" Because it provides free coding classes with Certificate and Best Teachers \")\r\n",
        "h.close()\r\n",
        "h = open(\"heyworld.txt\",\"r\")\r\n",
        "print(h.read())\r\n",
        "h.close()"
      ],
      "execution_count": 15,
      "outputs": [
        {
          "output_type": "stream",
          "text": [
            "I Love Letsupgrade\n",
            "I Love Letsupgrade Because it provides free coding classes with Certificate and Best Teachers \n"
          ],
          "name": "stdout"
        }
      ]
    },
    {
      "cell_type": "code",
      "metadata": {
        "id": "1MhnW3VtELDF"
      },
      "source": [
        ""
      ],
      "execution_count": null,
      "outputs": []
    }
  ]
}