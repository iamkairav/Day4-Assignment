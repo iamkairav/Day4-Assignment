{
  "nbformat": 4,
  "nbformat_minor": 0,
  "metadata": {
    "colab": {
      "name": "letusupgrade-python.ipynb",
      "provenance": [],
      "collapsed_sections": []
    },
    "kernelspec": {
      "name": "python3",
      "display_name": "Python 3"
    }
  },
  "cells": [
    {
      "cell_type": "code",
      "metadata": {
        "id": "uYGjUd0-nRMf",
        "colab": {
          "base_uri": "https://localhost:8080/"
        },
        "outputId": "442e078f-9ffb-4e8a-d11c-801175723e05"
      },
      "source": [
        "# Write a function which can return a Factorial of any numbers as INT, given in the argument.\r\n",
        "def fact(x):\r\n",
        "  b=x+1\r\n",
        "  e=1\r\n",
        "  for a in range(1,b):\r\n",
        "    e = x * e\r\n",
        "    x=x-1\r\n",
        "  print(e)\r\n",
        "fact(3)\r\n",
        "\r\n",
        "\r\n"
      ],
      "execution_count": 31,
      "outputs": [
        {
          "output_type": "stream",
          "text": [
            "6\n"
          ],
          "name": "stdout"
        }
      ]
    },
    {
      "cell_type": "code",
      "metadata": {
        "id": "1MhnW3VtELDF"
      },
      "source": [
        ""
      ],
      "execution_count": null,
      "outputs": []
    }
  ]
}